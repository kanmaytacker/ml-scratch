{
 "cells": [
  {
   "cell_type": "code",
   "execution_count": 1,
   "metadata": {},
   "outputs": [
    {
     "name": "stderr",
     "output_type": "stream",
     "text": [
      "/Users/tanmayk/.pyenv/versions/3.9.1/envs/DAV/lib/python3.9/site-packages/pandas/compat/__init__.py:124: UserWarning: Could not import the lzma module. Your installed Python is incomplete. Attempting to use lzma compression will result in a RuntimeError.\n",
      "  warnings.warn(msg)\n"
     ]
    }
   ],
   "source": [
    "import pandas as pd\n",
    "import numpy as np\n",
    "import matplotlib.pyplot as plt\n",
    "import seaborn as sns"
   ]
  },
  {
   "cell_type": "markdown",
   "metadata": {},
   "source": [
    "# Premise\n",
    "\\begin{equation*}\n",
    "    y_n = \\beta_0 + \\beta_1 x_n + \\epsilon_n\n",
    "\\end{equation*}\n",
    "\\begin{equation*}\n",
    "    y_n = \\beta^T \\textbf{x}_n + \\epsilon_n\n",
    "\\end{equation*}"
   ]
  },
  {
   "cell_type": "code",
   "execution_count": 2,
   "metadata": {},
   "outputs": [],
   "source": [
    "# Generate data\n",
    "N = 20\n",
    "beta_0 = -4\n",
    "beta_1 = 2\n",
    "\n",
    "x = np.random.randn(N)\n",
    "\n",
    "# Generate noise\n",
    "e = np.random.randn(N)\n",
    "\n",
    "# Generate predictions\n",
    "y = beta_0 + beta_1 * x + e\n",
    "\n",
    "# Generate true data\n",
    "true_x = np.linspace(min(x), max(x), 100)\n",
    "true_y = beta_0 + beta_1 * true_x"
   ]
  },
  {
   "cell_type": "code",
   "execution_count": 4,
   "metadata": {},
   "outputs": [
    {
     "data": {
      "image/png": "[encoded data removed]",
      "text/plain": [
       "<Figure size 720x720 with 1 Axes>"
      ]
     },
     "metadata": {
      "needs_background": "light"
     },
     "output_type": "display_data"
    }
   ],
   "source": [
    "# Plot data\n",
    "fig, ax = plt.subplots(figsize=(10, 10))\n",
    "\n",
    "sns.scatterplot(x=x, y=y, ax=ax, s= 40, label = 'Data')\n",
    "sns.lineplot(x=true_x, y=true_y, ax=ax, color='red', label = 'True Data')\n",
    "\n",
    "ax.set_xlabel('x')\n",
    "ax.set_ylabel('y')\n",
    "\n",
    "ax.set_title(fr\"$y = {beta_0} + ${beta_1}$x + \\epsilon$\")\n",
    "ax.legend()\n",
    "sns.despine()"
   ]
  },
  {
   "cell_type": "markdown",
   "metadata": {},
   "source": [
    "# Loss function - Residual sum of squares\n",
    "\n",
    "\\begin{equation*}\n",
    "    \\mathcal{L}(\\hat{\\beta}_0, \\hat{\\beta}_1) = \\frac{1}{2} \\sum_{n=1}^N (y_n - \\hat{y}_n)^2\n",
    "\\end{equation*} \n",
    "\\begin{equation*}\n",
    "    \\mathcal{L}(\\hat{\\beta}_0, \\hat{\\beta}_1) = \\frac{1}{2} \\sum_{n=1}^N (y_n - (\\hat{\\beta}_0 + \\hat{\\beta}_1x_n))^2\n",
    "\\end{equation*} "
   ]
  },
  {
   "cell_type": "markdown",
   "metadata": {},
   "source": [
    "# Parameter Estimation"
   ]
  },
  {
   "cell_type": "markdown",
   "metadata": {},
   "source": [
    "## Take partial derivatives of the loss function w.r.t $\\beta_0$\n",
    "\n",
    "\\begin{equation*}\n",
    "    \\frac{\\partial \\mathcal{L}(\\hat{\\beta}_0, \\hat{\\beta}_1)}{\\partial \\hat{\\beta}_0} = \\frac{2}{2} \\sum_{n=1}^N (0 - 1 - 0)(y_n - \\hat{\\beta}_0 - \\hat{\\beta}_1x_n)\n",
    "\\end{equation*}\n",
    "\\begin{equation*}\n",
    "   0 = -1 (\\sum_{n=1}^N y_n - \\sum_{n=1}^N \\hat{\\beta}_0 - \\hat{\\beta}_1 \\sum_{n=1}^N x_n)\n",
    "\\end{equation*}\n",
    "\\begin{equation*}\n",
    "   0 = \\sum_{n=1}^N y_n - \\hat{\\beta}_0 N - \\hat{\\beta}_1 \\sum_{n=1}^N x_n\n",
    "\\end{equation*}\n",
    "\\begin{equation*}\n",
    "   \\hat{\\beta}_0 N = \\sum_{n=1}^N y_n - \\hat{\\beta}_1 \\sum_{n=1}^N x_n\n",
    "\\end{equation*}\n",
    "\\begin{equation*}\n",
    "   \\hat{\\beta}_0 = \\frac{1}{N} (\\sum_{n=1}^N y_n - \\hat{\\beta}_1 \\sum_{n=1}^N x_n)\n",
    "\\end{equation*}\n",
    "\\begin{equation*}\n",
    "    = \\bar{y} - \\hat{\\beta}_1 \\bar{x}\n",
    "\\end{equation*}\n"
   ]
  },
  {
   "cell_type": "markdown",
   "metadata": {},
   "source": [
    "## Take partial derivatives of the loss function w.r.t $\\beta_1$\n",
    "\n",
    "\\begin{equation*}\n",
    "    \\frac{\\partial \\mathcal{L}(\\hat{\\beta}_0, \\hat{\\beta}_1)}{\\partial \\hat{\\beta}_1} = \\frac{2}{2} \\sum_{n=1}^N (0 - 0 - x_n)(y_n - \\hat{\\beta}_0 - \\hat{\\beta}_1x_n)\n",
    "\\end{equation*}\n",
    "\\begin{equation*}\n",
    "    0 = \\sum_{n=1}^N x_n y_n - (\\bar{y} - \\hat{\\beta}_1 \\bar{x}) x_n - \\hat{\\beta}_1x_n^2\n",
    "\\end{equation*}\n",
    "\\begin{equation*}\n",
    "    = \\sum_{n=1}^N x_n y_n - \\bar{y}x_n + \\hat{\\beta}_1 \\bar{x} x_n - \\hat{\\beta}_1x_n^2\n",
    "\\end{equation*}\n",
    "\\begin{equation*}\n",
    "    = \\sum_{n=1}^N (x_n y_n - \\bar{y}x_n) + \\sum_{n=1}^N (\\hat{\\beta}_1 \\bar{x} x_n - \\hat{\\beta}_1x_n^2)\n",
    "\\end{equation*}\n",
    "\\begin{equation*}\n",
    "    = \\sum_{n=1}^N ( x_ny_n - \\bar{y}x_n) - \\hat{\\beta}_1 \\sum_{n=1}^N (x_n^2 - \\bar{x} x_n)\n",
    "\\end{equation*}\n",
    "\\begin{equation*}\n",
    "  \\hat{\\beta}_1 \\sum_{n=1}^N (x_n^2 - \\bar{x} x_n)  = \\sum_{n=1}^N ( x_ny_n - \\bar{y}x_n)\n",
    "\\end{equation*}\n",
    "\\begin{equation*}\n",
    "  \\hat{\\beta}_1   = \\frac{\\sum_{n=1}^N ( x_ny_n - \\bar{y}x_n)}{\\sum_{n=1}^N (x_n^2 - \\bar{x} x_n)}\n",
    "\\end{equation*}\n",
    "\\begin{equation*}\n",
    "  \\hat{\\beta}_1   = \\frac{\\sum_{n=1}^N x_n(y_n - \\bar{y})}{\\sum_{n=1}^N x_n(x_n - \\bar{x})}\n",
    "\\end{equation*}\n",
    "\\begin{equation*}\n",
    "  = \\frac{\\sum_{n=1}^N (x_n - \\bar{x})(y_n - \\bar{y})}{\\sum_{n=1}^N (x_n - \\bar{x})^2}\n",
    "\\end{equation*}\n"
   ]
  },
  {
   "cell_type": "markdown",
   "metadata": {},
   "source": [
    "### Summing up\n",
    "\\begin{equation*}\n",
    "  \\hat{\\beta}_0  = \\bar{y} - \\hat{\\beta}_1 \\bar{x}\n",
    "\\end{equation*}\n",
    "\\begin{equation*}\n",
    " \\hat{\\beta}_1 = \\frac{\\sum_{n=1}^N (x_n - \\bar{x})(y_n - \\bar{y})}{\\sum_{n=1}^N (x_n - \\bar{x})^2}\n",
    "\\end{equation*}\n"
   ]
  },
  {
   "cell_type": "code",
   "execution_count": 5,
   "metadata": {},
   "outputs": [],
   "source": [
    "def mean(values):\n",
    "    return sum(values) / len(values)"
   ]
  },
  {
   "cell_type": "code",
   "execution_count": 6,
   "metadata": {},
   "outputs": [],
   "source": [
    "def variance(values):\n",
    "    mu = mean(values)\n",
    "    return sum([(x - mu) ** 2 for x in values])"
   ]
  },
  {
   "cell_type": "code",
   "execution_count": 7,
   "metadata": {},
   "outputs": [],
   "source": [
    "def covariance(x, y):\n",
    "    mu_x = mean(x)\n",
    "    mu_y = mean(y)\n",
    "    return [(x - mu_x) * (y - mu_y) for x, y in zip(x, y)]"
   ]
  },
  {
   "cell_type": "code",
   "execution_count": 8,
   "metadata": {},
   "outputs": [],
   "source": [
    "def estimate_coefficients(x, y):\n",
    "    beta_1 = covariance(x, y) / variance(x)\n",
    "    beta_0 = mean(y) - beta_1 * mean(x)\n",
    "    return beta_0, beta_1"
   ]
  },
  {
   "cell_type": "code",
   "execution_count": null,
   "metadata": {},
   "outputs": [],
   "source": []
  }
 ],
 "metadata": {
  "interpreter": {
   "hash": "90a55106368931a13ee11cd663ede7fedc6d974cad89dbc2c616a0fca0111985"
  },
  "kernelspec": {
   "display_name": "Python 3.9.1 64-bit ('DAV': pyenv)",
   "language": "python",
   "name": "python3"
  },
  "language_info": {
   "codemirror_mode": {
    "name": "ipython",
    "version": 3
   },
   "file_extension": ".py",
   "mimetype": "text/x-python",
   "name": "python",
   "nbconvert_exporter": "python",
   "pygments_lexer": "ipython3",
   "version": "3.9.1"
  },
  "orig_nbformat": 4
 },
 "nbformat": 4,
 "nbformat_minor": 2
}
