{
 "cells": [
  {
   "cell_type": "code",
   "execution_count": 10,
   "metadata": {},
   "outputs": [],
   "source": [
    "import pandas as pd\n",
    "import numpy as np\n",
    "import matplotlib.pyplot as plt\n",
    "import seaborn as sns\n",
    "\n",
    "from sklearn.linear_model import LinearRegression\n",
    "from sklearn.metrics import mean_squared_error, r2_score\n",
    "from sklearn import datasets"
   ]
  },
  {
   "cell_type": "markdown",
   "metadata": {},
   "source": [
    "# Premise"
   ]
  },
  {
   "cell_type": "markdown",
   "metadata": {},
   "source": [
    "\\begin{equation*}\n",
    "    y_n = \\beta_0 + \\beta_1 x_n^{(1)} + \\beta_2 x_n^{(2)} + ... + \\beta_D x_n^{(D)} + \\epsilon_n\n",
    "\\end{equation*}"
   ]
  },
  {
   "cell_type": "markdown",
   "metadata": {},
   "source": [
    "$$ \n",
    "    \\textbf{x}_n =\n",
    "        \\begin{pmatrix}\n",
    "            1 & x_n^{(1)} & x_n^{(2)} & ... & x_n^{(D)}\n",
    "        \\end{pmatrix}^T\n",
    "$$\n",
    "\n",
    "$$\n",
    "    \\beta =\n",
    "        \\begin{pmatrix}\n",
    "        \\beta_0 & \\beta_1 & \\beta_2 & ... & \\beta_D\n",
    "        \\end{pmatrix}^T\n",
    "$$\n",
    "\\begin{equation*}\n",
    "    y_n = \\beta^T \\textbf{x}_n + \\epsilon_n\n",
    "\\end{equation*}"
   ]
  },
  {
   "cell_type": "markdown",
   "metadata": {},
   "source": [
    "## Loss Function"
   ]
  },
  {
   "cell_type": "markdown",
   "metadata": {},
   "source": [
    "\\begin{equation*}\n",
    "    \\mathcal{L}(\\hat{\\beta}) = \\frac{1}{2} \\sum_{n=1}^N (y_n - \\hat{y}_n)^2 = \\frac{1}{2} \\sum_{n=1}^N (y_n - \\beta^T \\textbf{x}_n)^2 \n",
    "\\end{equation*} "
   ]
  },
  {
   "cell_type": "markdown",
   "metadata": {},
   "source": [
    "$$ \n",
    "    \\textbf{y} =\n",
    "        \\begin{bmatrix}\n",
    "            y_1 \\\\\n",
    "            y_2 \\\\\n",
    "            ... \\\\\n",
    "            y_N \\\\\n",
    "        \\end{bmatrix}\n",
    "$$\n",
    "$$ \n",
    "    \\textbf{X} =\n",
    "        \\begin{bmatrix}\n",
    "            \\textbf{x}_1^T \\\\\n",
    "            \\textbf{x}_2^T \\\\\n",
    "            ... \\\\\n",
    "            \\textbf{x}_N^T \\\\\n",
    "        \\end{bmatrix}\n",
    "$$"
   ]
  },
  {
   "cell_type": "markdown",
   "metadata": {},
   "source": [
    "$$\n",
    "    \\hat{\\textbf{y}} = \\textbf{X} \\hat{\\beta}\n",
    "$$\n",
    "$$\n",
    "    \\mathcal{L}(\\hat{\\beta}) = \\frac{1}{2} (\\textbf{y} - \\textbf{X} \\hat{\\beta})^T (\\textbf{y} - \\textbf{X} \\hat{\\beta})\n",
    "$$"
   ]
  },
  {
   "cell_type": "markdown",
   "metadata": {},
   "source": [
    "## Parameter Estimation\n",
    "Minimising the loss function by taking partial derivatives"
   ]
  },
  {
   "cell_type": "markdown",
   "metadata": {},
   "source": [
    "\\begin{equation*}\n",
    "    \\frac{\\partial \\mathcal{L}(\\hat{\\beta})}{\\partial \\hat{\\beta}} = \\frac{\\partial \\frac{1}{2} (\\textbf{y} - \\textbf{X} \\hat{\\beta})^T (\\textbf{y} - \\textbf{X} \\hat{\\beta})}{\\partial \\hat{\\beta}}\n",
    "\\end{equation*}"
   ]
  },
  {
   "cell_type": "markdown",
   "metadata": {},
   "source": [
    "For a symmetric matrix I,\n",
    "\n",
    "$$\n",
    "\\frac{\\partial (\\textbf{q} - \\textbf{As})^T I (\\textbf{q} - \\textbf{As})}{\\partial \\textbf{s}} = -2\\textbf{A}^T I (\\textbf{q} - \\textbf{As})\n",
    "$$"
   ]
  },
  {
   "cell_type": "markdown",
   "metadata": {},
   "source": [
    "Using the above formula gives us,\n",
    "$$\n",
    "\\frac{\\partial \\mathcal{L}(\\hat{\\beta})}{\\partial \\hat{\\beta}} = -\\textbf{X}^T(\\textbf{y} - \\textbf{X} \\hat{\\beta})\n",
    "$$\n",
    "$$\n",
    "0 = -\\textbf{X}^T(\\textbf{y} - \\textbf{X} \\hat{\\beta})\n",
    "$$\n",
    "$$\n",
    "0 = -\\textbf{X}^T\\textbf{y} + \\textbf{X}^T\\textbf{X} \\hat{\\beta})\n",
    "$$\n",
    "\n",
    "$$\n",
    "\\textbf{X}^T\\textbf{X} \\hat{\\beta} = \\textbf{X}^T\\textbf{y}\n",
    "$$\n",
    "$$\n",
    "\\hat{\\beta} = (\\textbf{X}^T\\textbf{X})^{-1}\\textbf{X}^T\\textbf{y}\n",
    "$$"
   ]
  },
  {
   "cell_type": "markdown",
   "metadata": {},
   "source": [
    "# Implementation"
   ]
  },
  {
   "cell_type": "code",
   "execution_count": 19,
   "metadata": {},
   "outputs": [],
   "source": [
    "def estimate_parameters(X, y):\n",
    "    \n",
    "    # Adding intercept ones\n",
    "    ones = np.ones(len(X)).reshape(len(X), 1)\n",
    "    X = np.concatenate((ones, X), axis=1)\n",
    "    \n",
    "    # Calculating the inverse term\n",
    "    XtX = np.dot(X.T, X)\n",
    "    XtX_inverse = np.linalg.inv(XtX)\n",
    "    \n",
    "    # Calculating the second term\n",
    "    Xty = np.dot(X.T, y)\n",
    "    \n",
    "    # Calculating the parameter vector\n",
    "    beta_hat = np.dot(XtX_inverse, Xty)\n",
    "\n",
    "    return beta_hat, X"
   ]
  },
  {
   "cell_type": "code",
   "execution_count": 7,
   "metadata": {},
   "outputs": [],
   "source": [
    "def calculate_rmse(y, y_hat):\n",
    "    squared_error = np.power(y - y_hat, 2)\n",
    "    mean_squared_error = np.mean(squared_error)\n",
    "    rmse = np.sqrt(mean_squared_error)\n",
    "    return rmse"
   ]
  },
  {
   "cell_type": "code",
   "execution_count": 17,
   "metadata": {},
   "outputs": [],
   "source": [
    "def predict(X, beta_hat):\n",
    "    y_hat = np.dot(X, beta_hat)\n",
    "    return y_hat"
   ]
  },
  {
   "cell_type": "code",
   "execution_count": 8,
   "metadata": {},
   "outputs": [],
   "source": [
    "def calculate_r2(y, y_hat):\n",
    "    rss = np.power(y - y_hat, 2).sum()\n",
    "    mean_y = np.mean(y)\n",
    "    tss = np.power(y - mean_y, 2).sum()\n",
    "    r2 = 1 - rss/tss\n",
    "    return r2"
   ]
  },
  {
   "cell_type": "code",
   "execution_count": 11,
   "metadata": {},
   "outputs": [],
   "source": [
    "boston = datasets.load_boston()\n",
    "X = boston.data\n",
    "y = boston.target"
   ]
  },
  {
   "cell_type": "code",
   "execution_count": 20,
   "metadata": {},
   "outputs": [
    {
     "data": {
      "text/plain": [
       "array([ 3.64594884e+01, -1.08011358e-01,  4.64204584e-02,  2.05586264e-02,\n",
       "        2.68673382e+00, -1.77666112e+01,  3.80986521e+00,  6.92224640e-04,\n",
       "       -1.47556685e+00,  3.06049479e-01, -1.23345939e-02, -9.52747232e-01,\n",
       "        9.31168327e-03, -5.24758378e-01])"
      ]
     },
     "execution_count": 20,
     "metadata": {},
     "output_type": "execute_result"
    }
   ],
   "source": [
    "beta_hat, X_with_intercept = estimate_parameters(X, y)\n",
    "beta_hat"
   ]
  },
  {
   "cell_type": "code",
   "execution_count": 23,
   "metadata": {},
   "outputs": [
    {
     "data": {
      "text/plain": [
       "array([30.00384338, 25.02556238, 30.56759672, 28.60703649, 27.94352423])"
      ]
     },
     "execution_count": 23,
     "metadata": {},
     "output_type": "execute_result"
    }
   ],
   "source": [
    "y_hat = predict(X_with_intercept, beta_hat)\n",
    "y_hat[:5]"
   ]
  },
  {
   "cell_type": "code",
   "execution_count": 24,
   "metadata": {},
   "outputs": [
    {
     "data": {
      "text/plain": [
       "4.679191295697282"
      ]
     },
     "execution_count": 24,
     "metadata": {},
     "output_type": "execute_result"
    }
   ],
   "source": [
    "rmse_scratch = calculate_rmse(y, y_hat)\n",
    "rmse_scratch"
   ]
  },
  {
   "cell_type": "code",
   "execution_count": 25,
   "metadata": {},
   "outputs": [
    {
     "data": {
      "text/plain": [
       "0.7406426641094094"
      ]
     },
     "execution_count": 25,
     "metadata": {},
     "output_type": "execute_result"
    }
   ],
   "source": [
    "r2_scratch = calculate_r2(y, y_hat)\n",
    "r2_scratch"
   ]
  },
  {
   "cell_type": "code",
   "execution_count": 26,
   "metadata": {},
   "outputs": [
    {
     "data": {
      "text/plain": [
       "LinearRegression()"
      ]
     },
     "execution_count": 26,
     "metadata": {},
     "output_type": "execute_result"
    }
   ],
   "source": [
    "regressor = LinearRegression()\n",
    "regressor.fit(X, y)"
   ]
  },
  {
   "cell_type": "code",
   "execution_count": 27,
   "metadata": {},
   "outputs": [
    {
     "data": {
      "text/plain": [
       "array([30.00384338, 25.02556238, 30.56759672, 28.60703649, 27.94352423])"
      ]
     },
     "execution_count": 27,
     "metadata": {},
     "output_type": "execute_result"
    }
   ],
   "source": [
    "predictions = regressor.predict(X)\n",
    "predictions[:5]"
   ]
  },
  {
   "cell_type": "code",
   "execution_count": 31,
   "metadata": {},
   "outputs": [
    {
     "data": {
      "text/plain": [
       "4.679191295697281"
      ]
     },
     "execution_count": 31,
     "metadata": {},
     "output_type": "execute_result"
    }
   ],
   "source": [
    "rmse_sk = np.sqrt(mean_squared_error(y, predictions))\n",
    "rmse_sk"
   ]
  },
  {
   "cell_type": "code",
   "execution_count": 32,
   "metadata": {},
   "outputs": [
    {
     "data": {
      "text/plain": [
       "0.7406426641094095"
      ]
     },
     "execution_count": 32,
     "metadata": {},
     "output_type": "execute_result"
    }
   ],
   "source": [
    "r2_sk = r2_score(y, predictions)\n",
    "r2_sk"
   ]
  }
 ],
 "metadata": {
  "interpreter": {
   "hash": "370c432e96fa8207a363aa19249434d63375148c4a55e8542936cb07680fb1ca"
  },
  "kernelspec": {
   "display_name": "Python 3.9.1 64-bit ('SLM-Code': pyenv)",
   "language": "python",
   "name": "python3"
  },
  "language_info": {
   "codemirror_mode": {
    "name": "ipython",
    "version": 3
   },
   "file_extension": ".py",
   "mimetype": "text/x-python",
   "name": "python",
   "nbconvert_exporter": "python",
   "pygments_lexer": "ipython3",
   "version": "3.9.1"
  },
  "orig_nbformat": 4
 },
 "nbformat": 4,
 "nbformat_minor": 2
}
