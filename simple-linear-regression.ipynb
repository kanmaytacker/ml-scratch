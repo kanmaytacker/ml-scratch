{
 "cells": [
  {
   "cell_type": "code",
   "execution_count": 40,
   "metadata": {},
   "outputs": [],
   "source": [
    "import pandas as pd\n",
    "import numpy as np\n",
    "import matplotlib.pyplot as plt\n",
    "import seaborn as sns\n",
    "\n",
    "from sklearn.linear_model import LinearRegression\n",
    "from sklearn.metrics import mean_squared_error, r2_score"
   ]
  },
  {
   "cell_type": "markdown",
   "metadata": {},
   "source": [
    "# Premise\n",
    "\\begin{equation*}\n",
    "    y_n = \\beta_0 + \\beta_1 x_n + \\epsilon_n\n",
    "\\end{equation*}\n",
    "\\begin{equation*}\n",
    "    y_n = \\beta^T \\textbf{x}_n + \\epsilon_n\n",
    "\\end{equation*}"
   ]
  },
  {
   "cell_type": "code",
   "execution_count": 5,
   "metadata": {},
   "outputs": [],
   "source": [
    "# Generate data\n",
    "N = 20\n",
    "beta_0 = -4\n",
    "beta_1 = 2\n",
    "\n",
    "x = np.random.randn(N)\n",
    "\n",
    "# Generate noise\n",
    "e = np.random.randn(N)\n",
    "\n",
    "# Generate predictions\n",
    "y = beta_0 + beta_1 * x + e\n",
    "\n",
    "# Generate true data\n",
    "true_x = np.linspace(min(x), max(x), 100)\n",
    "true_y = beta_0 + beta_1 * true_x"
   ]
  },
  {
   "cell_type": "code",
   "execution_count": 6,
   "metadata": {},
   "outputs": [
    {
     "data": {
      "image/png": "[encoded data removed]",
      "text/plain": [
       "<Figure size 720x720 with 1 Axes>"
      ]
     },
     "metadata": {
      "needs_background": "light"
     },
     "output_type": "display_data"
    }
   ],
   "source": [
    "# Plot data\n",
    "fig, ax = plt.subplots(figsize=(10, 10))\n",
    "\n",
    "sns.scatterplot(x=x, y=y, ax=ax, s= 40, label = 'Data')\n",
    "sns.lineplot(x=true_x, y=true_y, ax=ax, color='red', label = 'True Data')\n",
    "\n",
    "ax.set_xlabel('x')\n",
    "ax.set_ylabel('y')\n",
    "\n",
    "ax.set_title(fr\"$y = {beta_0} + ${beta_1}$x + \\epsilon$\")\n",
    "ax.legend()\n",
    "sns.despine()"
   ]
  },
  {
   "cell_type": "markdown",
   "metadata": {},
   "source": [
    "# Loss function - Residual sum of squares\n",
    "\n",
    "\\begin{equation*}\n",
    "    \\mathcal{L}(\\hat{\\beta}_0, \\hat{\\beta}_1) = \\frac{1}{2} \\sum_{n=1}^N (y_n - \\hat{y}_n)^2\n",
    "\\end{equation*} \n",
    "\\begin{equation*}\n",
    "    \\mathcal{L}(\\hat{\\beta}_0, \\hat{\\beta}_1) = \\frac{1}{2} \\sum_{n=1}^N (y_n - (\\hat{\\beta}_0 + \\hat{\\beta}_1x_n))^2\n",
    "\\end{equation*} "
   ]
  },
  {
   "cell_type": "markdown",
   "metadata": {},
   "source": [
    "# Parameter Estimation"
   ]
  },
  {
   "cell_type": "markdown",
   "metadata": {},
   "source": [
    "## Take partial derivatives of the loss function w.r.t $\\beta_0$\n",
    "\n",
    "\\begin{equation*}\n",
    "    \\frac{\\partial \\mathcal{L}(\\hat{\\beta}_0, \\hat{\\beta}_1)}{\\partial \\hat{\\beta}_0} = \\frac{2}{2} \\sum_{n=1}^N (0 - 1 - 0)(y_n - \\hat{\\beta}_0 - \\hat{\\beta}_1x_n)\n",
    "\\end{equation*}\n",
    "\\begin{equation*}\n",
    "   0 = -1 (\\sum_{n=1}^N y_n - \\sum_{n=1}^N \\hat{\\beta}_0 - \\hat{\\beta}_1 \\sum_{n=1}^N x_n)\n",
    "\\end{equation*}\n",
    "\\begin{equation*}\n",
    "   0 = \\sum_{n=1}^N y_n - \\hat{\\beta}_0 N - \\hat{\\beta}_1 \\sum_{n=1}^N x_n\n",
    "\\end{equation*}\n",
    "\\begin{equation*}\n",
    "   \\hat{\\beta}_0 N = \\sum_{n=1}^N y_n - \\hat{\\beta}_1 \\sum_{n=1}^N x_n\n",
    "\\end{equation*}\n",
    "\\begin{equation*}\n",
    "   \\hat{\\beta}_0 = \\frac{1}{N} (\\sum_{n=1}^N y_n - \\hat{\\beta}_1 \\sum_{n=1}^N x_n)\n",
    "\\end{equation*}\n",
    "\\begin{equation*}\n",
    "    = \\bar{y} - \\hat{\\beta}_1 \\bar{x}\n",
    "\\end{equation*}\n"
   ]
  },
  {
   "cell_type": "markdown",
   "metadata": {},
   "source": [
    "## Take partial derivatives of the loss function w.r.t $\\beta_1$\n",
    "\n",
    "\\begin{equation*}\n",
    "    \\frac{\\partial \\mathcal{L}(\\hat{\\beta}_0, \\hat{\\beta}_1)}{\\partial \\hat{\\beta}_1} = \\frac{2}{2} \\sum_{n=1}^N (0 - 0 - x_n)(y_n - \\hat{\\beta}_0 - \\hat{\\beta}_1x_n)\n",
    "\\end{equation*}\n",
    "\\begin{equation*}\n",
    "    0 = \\sum_{n=1}^N x_n y_n - (\\bar{y} - \\hat{\\beta}_1 \\bar{x}) x_n - \\hat{\\beta}_1x_n^2\n",
    "\\end{equation*}\n",
    "\\begin{equation*}\n",
    "    = \\sum_{n=1}^N x_n y_n - \\bar{y}x_n + \\hat{\\beta}_1 \\bar{x} x_n - \\hat{\\beta}_1x_n^2\n",
    "\\end{equation*}\n",
    "\\begin{equation*}\n",
    "    = \\sum_{n=1}^N (x_n y_n - \\bar{y}x_n) + \\sum_{n=1}^N (\\hat{\\beta}_1 \\bar{x} x_n - \\hat{\\beta}_1x_n^2)\n",
    "\\end{equation*}\n",
    "\\begin{equation*}\n",
    "    = \\sum_{n=1}^N ( x_ny_n - \\bar{y}x_n) - \\hat{\\beta}_1 \\sum_{n=1}^N (x_n^2 - \\bar{x} x_n)\n",
    "\\end{equation*}\n",
    "\\begin{equation*}\n",
    "  \\hat{\\beta}_1 \\sum_{n=1}^N (x_n^2 - \\bar{x} x_n)  = \\sum_{n=1}^N ( x_ny_n - \\bar{y}x_n)\n",
    "\\end{equation*}\n",
    "\\begin{equation*}\n",
    "  \\hat{\\beta}_1   = \\frac{\\sum_{n=1}^N ( x_ny_n - \\bar{y}x_n)}{\\sum_{n=1}^N (x_n^2 - \\bar{x} x_n)}\n",
    "\\end{equation*}\n",
    "\\begin{equation*}\n",
    "  \\hat{\\beta}_1   = \\frac{\\sum_{n=1}^N x_n(y_n - \\bar{y})}{\\sum_{n=1}^N x_n(x_n - \\bar{x})}\n",
    "\\end{equation*}\n",
    "\\begin{equation*}\n",
    "  = \\frac{\\sum_{n=1}^N (x_n - \\bar{x})(y_n - \\bar{y})}{\\sum_{n=1}^N (x_n - \\bar{x})^2}\n",
    "\\end{equation*}\n"
   ]
  },
  {
   "cell_type": "markdown",
   "metadata": {},
   "source": [
    "## Summing up\n",
    "\\begin{equation*}\n",
    "  \\hat{\\beta}_0  = \\bar{y} - \\hat{\\beta}_1 \\bar{x}\n",
    "\\end{equation*}\n",
    "\\begin{equation*}\n",
    " \\hat{\\beta}_1 = \\frac{\\sum_{n=1}^N (x_n - \\bar{x})(y_n - \\bar{y})}{\\sum_{n=1}^N (x_n - \\bar{x})^2}\n",
    "\\end{equation*}\n"
   ]
  },
  {
   "cell_type": "markdown",
   "metadata": {},
   "source": [
    "## Implementation"
   ]
  },
  {
   "cell_type": "code",
   "execution_count": 7,
   "metadata": {},
   "outputs": [],
   "source": [
    "def mean(values):\n",
    "    return sum(values) / len(values)"
   ]
  },
  {
   "cell_type": "code",
   "execution_count": 8,
   "metadata": {},
   "outputs": [],
   "source": [
    "def variance(values):\n",
    "    mu = mean(values)\n",
    "    return sum([(x - mu) ** 2 for x in values])"
   ]
  },
  {
   "cell_type": "code",
   "execution_count": 9,
   "metadata": {},
   "outputs": [],
   "source": [
    "def covariance(x, y):\n",
    "    mu_x = mean(x)\n",
    "    mu_y = mean(y)\n",
    "    return sum([(x - mu_x) * (y - mu_y) for x, y in zip(x, y)])"
   ]
  },
  {
   "cell_type": "code",
   "execution_count": 10,
   "metadata": {},
   "outputs": [],
   "source": [
    "def estimate_coefficients(x, y):\n",
    "    beta_1 = covariance(x, y) / variance(x)\n",
    "    beta_0 = mean(y) - beta_1 * mean(x)\n",
    "    return beta_0, beta_1"
   ]
  },
  {
   "cell_type": "markdown",
   "metadata": {},
   "source": [
    "## Testing out the model"
   ]
  },
  {
   "cell_type": "code",
   "execution_count": 11,
   "metadata": {},
   "outputs": [],
   "source": [
    "data = pd.read_csv(\n",
    "    \"https://raw.githubusercontent.com/mubaris/potential-enigma/master/headbrain.csv\"\n",
    ")\n"
   ]
  },
  {
   "cell_type": "code",
   "execution_count": 12,
   "metadata": {},
   "outputs": [
    {
     "data": {
      "text/html": [
       "<div>\n",
       "<style scoped>\n",
       "    .dataframe tbody tr th:only-of-type {\n",
       "        vertical-align: middle;\n",
       "    }\n",
       "\n",
       "    .dataframe tbody tr th {\n",
       "        vertical-align: top;\n",
       "    }\n",
       "\n",
       "    .dataframe thead th {\n",
       "        text-align: right;\n",
       "    }\n",
       "</style>\n",
       "<table border=\"1\" class=\"dataframe\">\n",
       "  <thead>\n",
       "    <tr style=\"text-align: right;\">\n",
       "      <th></th>\n",
       "      <th>Gender</th>\n",
       "      <th>Age Range</th>\n",
       "      <th>Head Size(cm^3)</th>\n",
       "      <th>Brain Weight(grams)</th>\n",
       "    </tr>\n",
       "  </thead>\n",
       "  <tbody>\n",
       "    <tr>\n",
       "      <th>0</th>\n",
       "      <td>1</td>\n",
       "      <td>1</td>\n",
       "      <td>4512</td>\n",
       "      <td>1530</td>\n",
       "    </tr>\n",
       "    <tr>\n",
       "      <th>1</th>\n",
       "      <td>1</td>\n",
       "      <td>1</td>\n",
       "      <td>3738</td>\n",
       "      <td>1297</td>\n",
       "    </tr>\n",
       "    <tr>\n",
       "      <th>2</th>\n",
       "      <td>1</td>\n",
       "      <td>1</td>\n",
       "      <td>4261</td>\n",
       "      <td>1335</td>\n",
       "    </tr>\n",
       "    <tr>\n",
       "      <th>3</th>\n",
       "      <td>1</td>\n",
       "      <td>1</td>\n",
       "      <td>3777</td>\n",
       "      <td>1282</td>\n",
       "    </tr>\n",
       "    <tr>\n",
       "      <th>4</th>\n",
       "      <td>1</td>\n",
       "      <td>1</td>\n",
       "      <td>4177</td>\n",
       "      <td>1590</td>\n",
       "    </tr>\n",
       "  </tbody>\n",
       "</table>\n",
       "</div>"
      ],
      "text/plain": [
       "   Gender  Age Range  Head Size(cm^3)  Brain Weight(grams)\n",
       "0       1          1             4512                 1530\n",
       "1       1          1             3738                 1297\n",
       "2       1          1             4261                 1335\n",
       "3       1          1             3777                 1282\n",
       "4       1          1             4177                 1590"
      ]
     },
     "execution_count": 12,
     "metadata": {},
     "output_type": "execute_result"
    }
   ],
   "source": [
    "data.head()"
   ]
  },
  {
   "cell_type": "code",
   "execution_count": 32,
   "metadata": {},
   "outputs": [],
   "source": [
    "X = data[\"Head Size(cm^3)\"].values\n",
    "y = data[\"Brain Weight(grams)\"].values"
   ]
  },
  {
   "cell_type": "code",
   "execution_count": 21,
   "metadata": {},
   "outputs": [
    {
     "data": {
      "text/plain": [
       "(237,)"
      ]
     },
     "execution_count": 21,
     "metadata": {},
     "output_type": "execute_result"
    }
   ],
   "source": [
    "y.shape"
   ]
  },
  {
   "cell_type": "code",
   "execution_count": 14,
   "metadata": {},
   "outputs": [],
   "source": [
    "beta_0, beta_1 = estimate_coefficients(X, y)"
   ]
  },
  {
   "cell_type": "code",
   "execution_count": 15,
   "metadata": {},
   "outputs": [
    {
     "data": {
      "text/plain": [
       "(325.57342104944223, 0.26342933948939945)"
      ]
     },
     "execution_count": 15,
     "metadata": {},
     "output_type": "execute_result"
    }
   ],
   "source": [
    "beta_0, beta_1"
   ]
  },
  {
   "cell_type": "markdown",
   "metadata": {},
   "source": [
    "$$\n",
    "    Brain Weight = 325.57342104944223 + 0.26342933948939945 * HeadSize\n",
    "$$\n"
   ]
  },
  {
   "cell_type": "code",
   "execution_count": 16,
   "metadata": {},
   "outputs": [],
   "source": [
    "# Predictions\n",
    "y_hat = beta_0 + beta_1 * X"
   ]
  },
  {
   "cell_type": "markdown",
   "metadata": {},
   "source": [
    "## Plotting the results\n"
   ]
  },
  {
   "cell_type": "code",
   "execution_count": 22,
   "metadata": {},
   "outputs": [
    {
     "data": {
      "image/png": "[encoded data removed]",
      "text/plain": [
       "<Figure size 432x288 with 1 Axes>"
      ]
     },
     "metadata": {
      "needs_background": "light"
     },
     "output_type": "display_data"
    }
   ],
   "source": [
    "max_x = np.max(X) + 100\n",
    "min_x = np.min(X) - 100\n",
    "\n",
    "simulated_x = np.linspace(min_x, max_x, 1000)\n",
    "simulated_y = beta_0 + beta_1 * simulated_x\n",
    "\n",
    "plt.scatter(X, y, label = 'Data')\n",
    "plt.plot(simulated_x, simulated_y, color = \"red\", label = 'Regression Line')\n",
    "\n",
    "plt.xlabel('Head Size in cm3')\n",
    "plt.ylabel('Brain Weight in grams')\n",
    "\n",
    "plt.legend()\n",
    "plt.grid()\n",
    "plt.show()"
   ]
  },
  {
   "cell_type": "markdown",
   "metadata": {},
   "source": [
    "## Model Evaluation"
   ]
  },
  {
   "cell_type": "code",
   "execution_count": 23,
   "metadata": {},
   "outputs": [],
   "source": [
    "def compute_rmse(y, y_hat):\n",
    "    squared_error = np.power(y - y_hat, 2)\n",
    "    mean_squared_error = np.mean(squared_error)\n",
    "    root_mean_squared_error = np.sqrt(mean_squared_error)\n",
    "    return root_mean_squared_error"
   ]
  },
  {
   "cell_type": "code",
   "execution_count": 37,
   "metadata": {},
   "outputs": [
    {
     "data": {
      "text/plain": [
       "72.1206213783709"
      ]
     },
     "execution_count": 37,
     "metadata": {},
     "output_type": "execute_result"
    }
   ],
   "source": [
    "rmse_scratch = compute_rmse(y, y_hat)\n",
    "rmse_scratch"
   ]
  },
  {
   "cell_type": "code",
   "execution_count": 25,
   "metadata": {},
   "outputs": [],
   "source": [
    "def compute_r2(y, y_hat):\n",
    "    \n",
    "    sum_of_squared_errors = np.power(y - y_hat, 2).sum()\n",
    "    \n",
    "    y_mean = np.mean(y)\n",
    "    total_sum_squares = np.power(y - y_mean, 2).sum()\n",
    "\n",
    "    r2_score = 1 - (sum_of_squared_errors / total_sum_squares)\n",
    "    return r2_score"
   ]
  },
  {
   "cell_type": "code",
   "execution_count": 38,
   "metadata": {},
   "outputs": [
    {
     "data": {
      "text/plain": [
       "0.639311719957"
      ]
     },
     "execution_count": 38,
     "metadata": {},
     "output_type": "execute_result"
    }
   ],
   "source": [
    "r2_scratch = compute_r2(y, y_hat)\n",
    "r2_scratch"
   ]
  },
  {
   "cell_type": "markdown",
   "metadata": {},
   "source": [
    "### Comparing with sklearn"
   ]
  },
  {
   "cell_type": "code",
   "execution_count": 33,
   "metadata": {},
   "outputs": [],
   "source": [
    "X = X.reshape(-1, 1)\n",
    "y = y.reshape(-1, 1)"
   ]
  },
  {
   "cell_type": "code",
   "execution_count": 35,
   "metadata": {},
   "outputs": [],
   "source": [
    "regressor = LinearRegression()\n",
    "regressor.fit(X, y)\n",
    "y_hat = regressor.predict(X)"
   ]
  },
  {
   "cell_type": "code",
   "execution_count": 39,
   "metadata": {},
   "outputs": [
    {
     "data": {
      "text/plain": [
       "72.1206213783709"
      ]
     },
     "execution_count": 39,
     "metadata": {},
     "output_type": "execute_result"
    }
   ],
   "source": [
    "rmse_sk = np.sqrt(mean_squared_error(y, y_hat))\n",
    "rmse_sk"
   ]
  },
  {
   "cell_type": "code",
   "execution_count": 41,
   "metadata": {},
   "outputs": [
    {
     "data": {
      "text/plain": [
       "0.639311719957"
      ]
     },
     "execution_count": 41,
     "metadata": {},
     "output_type": "execute_result"
    }
   ],
   "source": [
    "r2_sk = r2_score(y, y_hat)\n",
    "r2_sk"
   ]
  },
  {
   "cell_type": "code",
   "execution_count": 43,
   "metadata": {},
   "outputs": [],
   "source": [
    "assert rmse_sk == rmse_scratch\n",
    "assert r2_sk == r2_scratch"
   ]
  }
 ],
 "metadata": {
  "interpreter": {
   "hash": "90a55106368931a13ee11cd663ede7fedc6d974cad89dbc2c616a0fca0111985"
  },
  "kernelspec": {
   "display_name": "Python 3.9.1 64-bit ('DAV': pyenv)",
   "language": "python",
   "name": "python3"
  },
  "language_info": {
   "codemirror_mode": {
    "name": "ipython",
    "version": 3
   },
   "file_extension": ".py",
   "mimetype": "text/x-python",
   "name": "python",
   "nbconvert_exporter": "python",
   "pygments_lexer": "ipython3",
   "version": "3.9.1"
  },
  "orig_nbformat": 4
 },
 "nbformat": 4,
 "nbformat_minor": 2
}
